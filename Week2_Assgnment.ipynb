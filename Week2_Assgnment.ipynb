{
 "cells": [
  {
   "cell_type": "code",
   "execution_count": 1,
   "id": "571e3e6e-46a5-407a-b0e2-e35b67584434",
   "metadata": {},
   "outputs": [
    {
     "data": {
      "text/plain": [
       "'\\nThis is a multi-line comment.\\nIt can span across multiple lines.\\n'"
      ]
     },
     "execution_count": 1,
     "metadata": {},
     "output_type": "execute_result"
    }
   ],
   "source": [
    "#Q1. How do you comment code in Python? What are the different types of comments?\n",
    "\n",
    "#Ans1\n",
    "\n",
    "\n",
    "#In Python we can add comments to our code to provide explanations, or disable certain lines of code from being executed.\n",
    "#Comments are not interpreted by the Python interpreter and are just for human readers.\n",
    "\n",
    "# This is a single-line comment\n",
    "\n",
    "\"\"\"\n",
    "This is a multi-line comment.\n",
    "It can span across multiple lines.\n",
    "\"\"\"\n",
    "\n",
    "# This is a multi-line comment\n",
    "# It can span across multiple lines"
   ]
  },
  {
   "cell_type": "code",
   "execution_count": 2,
   "id": "191d1407-fa5d-4e87-890f-64a2177875ac",
   "metadata": {},
   "outputs": [],
   "source": [
    "#Q2. What are variables in Python? How do you declare and assign values to variables?"
   ]
  },
  {
   "cell_type": "code",
   "execution_count": 6,
   "id": "736f26dc-135a-4aa7-891f-c808567044d4",
   "metadata": {},
   "outputs": [
    {
     "name": "stdout",
     "output_type": "stream",
     "text": [
      "Akash\n",
      "27\n",
      "5.7 ft\n"
     ]
    }
   ],
   "source": [
    "#Ans2\n",
    "\n",
    "#In Python, variables are used to store and refer to data values.\n",
    "#A variable is essentially a named location in the computer's memory that holds a value.\n",
    "\n",
    "# Variable declaration and assignment\n",
    "name = \"Akash\"   # Assigning a string value to the variable 'name'\n",
    "age = 27        # Assigning an integer value to the variable 'age'\n",
    "height = 5.7   # Assigning a float value to the variable 'height'\n",
    "\n",
    "# Printing the values of the variables\n",
    "print(name)\n",
    "print(age)\n",
    "print(height, \"ft\")\n"
   ]
  },
  {
   "cell_type": "code",
   "execution_count": 7,
   "id": "e3976f21-791e-42fc-820b-e05dc4dd9cdf",
   "metadata": {},
   "outputs": [
    {
     "data": {
      "text/plain": [
       "'\\nIn Python, you can convert one data type to another using type conversion functions or methods.\\nThese functions/methods allow us to explicitly change the data type of a value to another compatible data type.\\nWe need to just call the function.\\n\\n\\nHere are some commonly used type conversion functions:\\n\\nint(): Converts a value to an integer data type.\\nfloat(): Converts a value to a floating-point data type.\\nstr(): Converts a value to a string data type.\\nlist(): Converts a value to a list data type.\\ntuple(): Converts a value to a tuple data type.\\ndict(): Converts a value to a dictionary data type.\\nset(): Converts a value to a set data type.\\n'"
      ]
     },
     "execution_count": 7,
     "metadata": {},
     "output_type": "execute_result"
    }
   ],
   "source": [
    "\"\"\"\n",
    "In Python, you can convert one data type to another using type conversion functions or methods.\n",
    "These functions/methods allow us to explicitly change the data type of a value to another compatible data type.\n",
    "We need to just call the function.\n",
    "\n",
    "\n",
    "Here are some commonly used type conversion functions:\n",
    "\n",
    "int(): Converts a value to an integer data type.\n",
    "float(): Converts a value to a floating-point data type.\n",
    "str(): Converts a value to a string data type.\n",
    "list(): Converts a value to a list data type.\n",
    "tuple(): Converts a value to a tuple data type.\n",
    "dict(): Converts a value to a dictionary data type.\n",
    "set(): Converts a value to a set data type.\n",
    "\"\"\""
   ]
  },
  {
   "cell_type": "code",
   "execution_count": 8,
   "id": "f78db9f0-b76a-4e06-a52e-e8abfd846f01",
   "metadata": {},
   "outputs": [],
   "source": [
    "#Q4. How do you write and execute a Python script from the command line?\n",
    "\n",
    "#Ans4\n",
    "\n",
    "#Command Line\n",
    "#To run a Python script store in a ‘.py’ file in command line, we have to write ‘python’ keyword before the file name in the command prompt.\n",
    "#python hello.py"
   ]
  },
  {
   "cell_type": "code",
   "execution_count": 9,
   "id": "8549b29d-b117-4056-b057-a9a1bb651ee0",
   "metadata": {},
   "outputs": [],
   "source": [
    "#Q5. Given a list my_list = [1, 2, 3, 4, 5], write the code to slice the list and obtain the sub-list [2, 3]."
   ]
  },
  {
   "cell_type": "code",
   "execution_count": 10,
   "id": "391045b4-64e6-4416-823c-d4f228043057",
   "metadata": {},
   "outputs": [
    {
     "name": "stdout",
     "output_type": "stream",
     "text": [
      "[2, 3]\n"
     ]
    }
   ],
   "source": [
    "#Ans5\n",
    "\n",
    "my_list = [1, 2, 3, 4, 5]\n",
    "sub_list = my_list[1:3]\n",
    "print(sub_list)"
   ]
  },
  {
   "cell_type": "code",
   "execution_count": null,
   "id": "cf354d21-1931-4f48-9273-73bb61fd8c1f",
   "metadata": {},
   "outputs": [],
   "source": [
    "#Q6. What is a complex number in mathematics, and how is it represented in Python?"
   ]
  },
  {
   "cell_type": "code",
   "execution_count": 11,
   "id": "400dea3f-11b5-4bb3-9a5c-ecd3d3bec59e",
   "metadata": {},
   "outputs": [],
   "source": [
    "#Ans6\n",
    "#In mathematics, a complex number is a number of the form a + bi,\n",
    "#where a and b are real numbers and i is the imaginary unit. \n",
    "#The imaginary unit i is defined as the square root of -1. \n",
    "#The real part a represents the real value, and the imaginary part b represents the imaginary value.\n",
    "\n",
    "#In Python, complex numbers are represented using the complex data type.\n",
    "#The complex numbers in Python are written in the form a + bj, where a and b are real numbers, and j represents the imaginary unit."
   ]
  },
  {
   "cell_type": "code",
   "execution_count": 12,
   "id": "afc55772-14e4-45b1-85f9-deb615e42a9c",
   "metadata": {},
   "outputs": [],
   "source": [
    "#Q7. What is the correct way to declare a variable named age and assign the value 25 to it?"
   ]
  },
  {
   "cell_type": "code",
   "execution_count": 13,
   "id": "1c7441ad-ef1e-46ab-9cb7-85c0538f778d",
   "metadata": {},
   "outputs": [
    {
     "name": "stdout",
     "output_type": "stream",
     "text": [
      "25\n"
     ]
    }
   ],
   "source": [
    "#Ans7\n",
    "\n",
    "age = 25\n",
    "print(age)"
   ]
  },
  {
   "cell_type": "code",
   "execution_count": 14,
   "id": "db055472-715b-4a11-9f24-07cd7a12b170",
   "metadata": {},
   "outputs": [],
   "source": [
    "#Q8. Declare a variable named price and assign the value 9.99 to it. What data type does this variable\n",
    "#belong to?"
   ]
  },
  {
   "cell_type": "code",
   "execution_count": 15,
   "id": "7a647add-7cc3-4cd9-ac0e-4f624230b560",
   "metadata": {},
   "outputs": [
    {
     "name": "stdout",
     "output_type": "stream",
     "text": [
      "<class 'float'>\n"
     ]
    }
   ],
   "source": [
    "#Ans8\n",
    "\n",
    "price = 9.99\n",
    "print(type(price))"
   ]
  },
  {
   "cell_type": "code",
   "execution_count": 16,
   "id": "833af23a-157c-485f-8fb9-86a3257faa4c",
   "metadata": {},
   "outputs": [],
   "source": [
    "#Q9. Create a variable named name and assign your full name to it as a string. How would you print the\n",
    "#value of this variable?"
   ]
  },
  {
   "cell_type": "code",
   "execution_count": 17,
   "id": "c31c74ae-4764-4a89-8f5f-15162a366209",
   "metadata": {},
   "outputs": [
    {
     "name": "stdout",
     "output_type": "stream",
     "text": [
      "Akash Debnath\n"
     ]
    }
   ],
   "source": [
    "#Ans9\n",
    "\n",
    "name = 'Akash Debnath'\n",
    "print(name)"
   ]
  },
  {
   "cell_type": "code",
   "execution_count": 18,
   "id": "0919e994-a0c0-4288-8fdd-0fdce4b9fb43",
   "metadata": {},
   "outputs": [],
   "source": [
    "#Q10. Given the string \"Hello, World!\", extract the substring \"World\"."
   ]
  },
  {
   "cell_type": "code",
   "execution_count": 19,
   "id": "d59dec8e-42e7-4129-a5a0-aad15ddb287c",
   "metadata": {},
   "outputs": [
    {
     "name": "stdout",
     "output_type": "stream",
     "text": [
      "World\n"
     ]
    }
   ],
   "source": [
    "#Ans10\n",
    "my_string = \"Hello, World!\"\n",
    "substring = my_string[7:12]\n",
    "print(substring)"
   ]
  },
  {
   "cell_type": "code",
   "execution_count": 20,
   "id": "99430bfb-5962-4971-9b1c-b53fafc57711",
   "metadata": {},
   "outputs": [],
   "source": [
    "#Q11. Create a variable named \"is_student\" and assign it a boolean value indicating whether you are\n",
    "#currently a student or not."
   ]
  },
  {
   "cell_type": "code",
   "execution_count": null,
   "id": "ba972bb0-f828-40c7-81dd-e3432c0c2e62",
   "metadata": {},
   "outputs": [],
   "source": [
    "#Ans11\n",
    "\n",
    "is_student = True"
   ]
  }
 ],
 "metadata": {
  "kernelspec": {
   "display_name": "Python 3 (ipykernel)",
   "language": "python",
   "name": "python3"
  },
  "language_info": {
   "codemirror_mode": {
    "name": "ipython",
    "version": 3
   },
   "file_extension": ".py",
   "mimetype": "text/x-python",
   "name": "python",
   "nbconvert_exporter": "python",
   "pygments_lexer": "ipython3",
   "version": "3.10.8"
  }
 },
 "nbformat": 4,
 "nbformat_minor": 5
}

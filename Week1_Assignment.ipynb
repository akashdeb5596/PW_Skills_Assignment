{
 "cells": [
  {
   "cell_type": "code",
   "execution_count": 21,
   "id": "f71cc581-d96b-4a95-9b7e-8e4605439943",
   "metadata": {},
   "outputs": [],
   "source": [
    "#Q1. Create one variable containing following type of data:\n",
    "#(i) string\n",
    "#(ii) list\n",
    "#(iii) float\n",
    "#(iv) tuple\"\"\""
   ]
  },
  {
   "cell_type": "code",
   "execution_count": 23,
   "id": "e64075cd-4ca0-4ab7-b5d1-3341fe886e2c",
   "metadata": {},
   "outputs": [],
   "source": [
    "#Ans1\n",
    "# String variable\n",
    "my_string = \"Hello, World!\"\n",
    "\n",
    "# List variable\n",
    "my_list = [1, 2.4, 3.1, 4.6, 5]\n",
    "\n",
    "# Float variable\n",
    "my_float = 1.24\n",
    "\n",
    "# Tuple variable\n",
    "my_tuple = (6.1, 7, 8.5, 9, 10)"
   ]
  },
  {
   "cell_type": "code",
   "execution_count": 2,
   "id": "878ee94e-7853-47fa-92ac-a2046981134b",
   "metadata": {},
   "outputs": [
    {
     "data": {
      "text/plain": [
       "'Hello, World!'"
      ]
     },
     "execution_count": 2,
     "metadata": {},
     "output_type": "execute_result"
    }
   ],
   "source": [
    "my_string"
   ]
  },
  {
   "cell_type": "code",
   "execution_count": 7,
   "id": "3674d968-d180-468d-9e12-2a88674a81a9",
   "metadata": {},
   "outputs": [
    {
     "data": {
      "text/plain": [
       "[1, 2.4, 3.1, 4.6, 5]"
      ]
     },
     "execution_count": 7,
     "metadata": {},
     "output_type": "execute_result"
    }
   ],
   "source": [
    "my_list\n"
   ]
  },
  {
   "cell_type": "code",
   "execution_count": 9,
   "id": "5ef3c083-1cf5-40dc-a9eb-545cb894bb19",
   "metadata": {},
   "outputs": [
    {
     "data": {
      "text/plain": [
       "1.24"
      ]
     },
     "execution_count": 9,
     "metadata": {},
     "output_type": "execute_result"
    }
   ],
   "source": [
    "my_float"
   ]
  },
  {
   "cell_type": "code",
   "execution_count": 25,
   "id": "43104331-22c2-46ad-8f56-27efd5a76d57",
   "metadata": {},
   "outputs": [
    {
     "data": {
      "text/plain": [
       "(6.1, 7, 8.5, 9, 10)"
      ]
     },
     "execution_count": 25,
     "metadata": {},
     "output_type": "execute_result"
    }
   ],
   "source": [
    "my_tuple"
   ]
  },
  {
   "cell_type": "code",
   "execution_count": 26,
   "id": "6bb72d0c-a54a-42e9-bc97-5a29522d88c7",
   "metadata": {},
   "outputs": [],
   "source": [
    "#Q2. Given are some following variables containing data:\n",
    "#(i) var1 = ‘ ‘\n",
    "#(ii) var2 = ‘[ DS , ML , Python]’\n",
    "#(iii) var3 = [ ‘DS’ , ’ML’ , ‘Python’ ]\n",
    "#(iv) var4 = 1\n",
    "\n",
    "#What will be the data type of the above given variable.\n",
    "\n",
    "#Ans2\n",
    "#(i) var1 - str\n",
    "#(ii) var2 - str\n",
    "#(iii) var3 - list\n",
    "#(iv) var4 - float"
   ]
  },
  {
   "cell_type": "code",
   "execution_count": 28,
   "id": "3d2cef0c-3104-4e4c-9e05-813ce0257ba6",
   "metadata": {},
   "outputs": [],
   "source": [
    "#Q3. Explain the use of the following operators using an example:\n",
    "#(i) /\n",
    "#(ii) %\n",
    "#(iii) //\n",
    "#(iv) **"
   ]
  },
  {
   "cell_type": "code",
   "execution_count": 32,
   "id": "20decf47-fada-4046-822f-4cf6d6fa35d1",
   "metadata": {},
   "outputs": [
    {
     "name": "stdout",
     "output_type": "stream",
     "text": [
      "2.4\n",
      "1\n",
      "4\n",
      "1024\n"
     ]
    }
   ],
   "source": [
    "#Ans3\n",
    "#(i) / (Division Operator):\n",
    "#The division operator / is used to perform division between two numbers. It returns the quotient as a floating-point number.\n",
    "\n",
    "x = 12\n",
    "y = 5\n",
    "\n",
    "result = x / y\n",
    "print(result)\n",
    "\n",
    "#(ii) % (Modulo Operator):\n",
    "#The modulo operator % is used to calculate the remainder of a division operation.\n",
    "x = 13\n",
    "y = 3\n",
    "\n",
    "result = x % y\n",
    "print(result)\n",
    "\n",
    "#(iii) // (Floor Division Operator):\n",
    "#The floor division operator // performs division and returns the quotient as an integer by discarding any fractional part.\n",
    "x = 13\n",
    "y = 3\n",
    "\n",
    "result = x // y\n",
    "print(result)\n",
    "\n",
    "#(iv) ** (Exponentiation Operator):\n",
    "#The exponentiation operator ** is used to raise a number to the power of another number.\n",
    "\n",
    "x = 4\n",
    "y = 5\n",
    "\n",
    "result = x ** y\n",
    "print(result)"
   ]
  },
  {
   "cell_type": "code",
   "execution_count": 33,
   "id": "a7e3ba62-3f04-4173-9b2c-c34b44c0aaa0",
   "metadata": {},
   "outputs": [],
   "source": [
    "#Q4. Create a list of length 10 of your choice containing multiple types of data. Using for loop print the\n",
    "#element and its data type."
   ]
  },
  {
   "cell_type": "code",
   "execution_count": 39,
   "id": "41580e8f-65c4-4ac5-a220-4e23a425d72e",
   "metadata": {},
   "outputs": [
    {
     "name": "stdout",
     "output_type": "stream",
     "text": [
      "Element: 1 \n",
      "Data Type: <class 'int'>\n",
      "Element: (6+7j) \n",
      "Data Type: <class 'complex'>\n",
      "Element: 5.0 \n",
      "Data Type: <class 'float'>\n",
      "Element: True \n",
      "Data Type: <class 'bool'>\n",
      "Element: [6, 3] \n",
      "Data Type: <class 'list'>\n",
      "Element: {'six': 6} \n",
      "Data Type: <class 'dict'>\n",
      "Element: (9, 5) \n",
      "Data Type: <class 'tuple'>\n",
      "Element: None \n",
      "Data Type: <class 'NoneType'>\n",
      "Element: seven \n",
      "Data Type: <class 'str'>\n",
      "Element: 16.0 \n",
      "Data Type: <class 'float'>\n"
     ]
    }
   ],
   "source": [
    "#Ans4\n",
    "\n",
    "my_list = [1,6+7j, 5.0, True, [6, 3], {'six': 6}, (9, 5), None, 'seven', 16.0]\n",
    "\n",
    "for i in my_list:\n",
    "    print(f\"Element: {i} \\nData Type: {type(i)}\")"
   ]
  },
  {
   "cell_type": "code",
   "execution_count": 40,
   "id": "7dc4b678-a592-4729-b58c-ff2b537000c8",
   "metadata": {},
   "outputs": [],
   "source": [
    "#Q5. Using a while loop, verify if the number A is purely divisible by number B and if so then how many\n",
    "#times it can be divisible."
   ]
  },
  {
   "cell_type": "code",
   "execution_count": 43,
   "id": "2cfddf27-b5ac-4abf-8289-fe85c71e78fc",
   "metadata": {},
   "outputs": [
    {
     "name": "stdout",
     "output_type": "stream",
     "text": [
      "A is divisible by B 2 times.\n"
     ]
    }
   ],
   "source": [
    "#Ans5\n",
    "\n",
    "A = 36\n",
    "B = 6\n",
    "\n",
    "count = 0\n",
    "\n",
    "while A % B == 0:\n",
    "    A = A // B\n",
    "    count += 1\n",
    "\n",
    "print(f\"A is divisible by B {count} times.\")"
   ]
  },
  {
   "cell_type": "code",
   "execution_count": 44,
   "id": "f32db4af-6cdf-49bd-8929-c0954b553219",
   "metadata": {},
   "outputs": [],
   "source": [
    "#Q6. Create a list containing 25 int type data. Using for loop and if-else condition print if the element is\n",
    "#divisible by 3 or not."
   ]
  },
  {
   "cell_type": "code",
   "execution_count": 46,
   "id": "cb3a712e-b2fe-45f3-826a-8fdd12ddadb1",
   "metadata": {},
   "outputs": [
    {
     "name": "stdout",
     "output_type": "stream",
     "text": [
      "12 is divisible by 3.\n",
      "24 is divisible by 3.\n",
      "57 is divisible by 3.\n",
      "18 is divisible by 3.\n",
      "76 is not divisible by 3.\n",
      "27 is divisible by 3.\n",
      "14 is not divisible by 3.\n",
      "21 is divisible by 3.\n",
      "30 is divisible by 3.\n",
      "54 is divisible by 3.\n",
      "16 is not divisible by 3.\n",
      "22 is not divisible by 3.\n",
      "33 is divisible by 3.\n",
      "11 is not divisible by 3.\n",
      "56 is not divisible by 3.\n",
      "89 is not divisible by 3.\n",
      "20 is not divisible by 3.\n",
      "76 is not divisible by 3.\n",
      "25 is not divisible by 3.\n",
      "36 is divisible by 3.\n",
      "32 is not divisible by 3.\n",
      "13 is not divisible by 3.\n",
      "15 is divisible by 3.\n",
      "10 is not divisible by 3.\n",
      "24 is divisible by 3.\n"
     ]
    }
   ],
   "source": [
    "#Ans6\n",
    "\n",
    "my_list = [12, 24, 57, 18,76, 27, 14, 21, 30, 54, 16, 22, 33, 11, 56, 89, 20, 76, 25, 36, 32, 13, 15, 10, 24]\n",
    "\n",
    "for num in my_list:\n",
    "    if num % 3 == 0:\n",
    "        print(f\"{num} is divisible by 3.\")\n",
    "    else:\n",
    "        print(f\"{num} is not divisible by 3.\")"
   ]
  },
  {
   "cell_type": "code",
   "execution_count": 47,
   "id": "a3bfc400-0571-4930-95ce-ca08e04291eb",
   "metadata": {},
   "outputs": [],
   "source": [
    "#Q7. What do you understand about mutable and immutable data types? Give examples for both showing\n",
    "#this property."
   ]
  },
  {
   "cell_type": "code",
   "execution_count": 51,
   "id": "69d8e836-8fbd-4d3f-824a-26d25e8d837e",
   "metadata": {},
   "outputs": [
    {
     "name": "stdout",
     "output_type": "stream",
     "text": [
      "[1, 2, 3]\n",
      "[4, 2, 3]\n",
      "(1, 2, 3)\n"
     ]
    },
    {
     "ename": "TypeError",
     "evalue": "'tuple' object does not support item assignment",
     "output_type": "error",
     "traceback": [
      "\u001b[0;31m---------------------------------------------------------------------------\u001b[0m",
      "\u001b[0;31mTypeError\u001b[0m                                 Traceback (most recent call last)",
      "Cell \u001b[0;32mIn[51], line 21\u001b[0m\n\u001b[1;32m     18\u001b[0m \u001b[38;5;28mprint\u001b[39m(my_tuple)\n\u001b[1;32m     20\u001b[0m \u001b[38;5;66;03m# Trying to modify the tuple (immutable) will result in an error\u001b[39;00m\n\u001b[0;32m---> 21\u001b[0m \u001b[43mmy_tuple\u001b[49m\u001b[43m[\u001b[49m\u001b[38;5;241;43m0\u001b[39;49m\u001b[43m]\u001b[49m \u001b[38;5;241m=\u001b[39m \u001b[38;5;241m4\u001b[39m\n",
      "\u001b[0;31mTypeError\u001b[0m: 'tuple' object does not support item assignment"
     ]
    }
   ],
   "source": [
    "#Ans\n",
    "\n",
    "#Mutable data type- A mutable data type can be modified after it is created.\n",
    "#Operations can directly modify the existing object without creating a new one.\"\"\"\n",
    "\n",
    "my_list = [1, 2, 3]\n",
    "print(my_list)\n",
    "\n",
    "# Modifying the list (mutable) is allowed\n",
    "\n",
    "my_list[0] = 4\n",
    "print(my_list)\n",
    "\n",
    "#Immutable data type- An immutable data type means that its value cannot be changed after it is created.\n",
    "#If any operation is performed that seems to modify the data, it actually creates a new object with the modified value.\"\"\"\n",
    "\n",
    "my_tuple = (1, 2, 3)\n",
    "print(my_tuple)\n",
    "\n",
    "# Trying to modify the tuple (immutable) will result in an error\n",
    "my_tuple[0] = 4"
   ]
  },
  {
   "cell_type": "code",
   "execution_count": null,
   "id": "815f8169-a648-4161-af45-4abd519cf661",
   "metadata": {},
   "outputs": [],
   "source": []
  }
 ],
 "metadata": {
  "kernelspec": {
   "display_name": "Python 3 (ipykernel)",
   "language": "python",
   "name": "python3"
  },
  "language_info": {
   "codemirror_mode": {
    "name": "ipython",
    "version": 3
   },
   "file_extension": ".py",
   "mimetype": "text/x-python",
   "name": "python",
   "nbconvert_exporter": "python",
   "pygments_lexer": "ipython3",
   "version": "3.10.8"
  }
 },
 "nbformat": 4,
 "nbformat_minor": 5
}
